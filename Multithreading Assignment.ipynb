{
 "cells": [
  {
   "cell_type": "markdown",
   "id": "c06acf73-5544-4f8b-be3c-5570ccaafab4",
   "metadata": {},
   "source": [
    "### What is multithreading in python? Why is it used? Name the module used to handle threads in python.\n",
    "\n",
    "Multithreading in Python is a way of performing multiple tasks simultaneously within a single program. A thread is a lightweight process that can run concurrently with other threads within the same process, sharing the same resources and memory space.\n",
    "\n",
    "Multithreading is used in Python when we want to execute multiple tasks at the same time and when we want to achieve concurrency. For example, a web server that handles multiple client requests simultaneously can use multithreading to handle each request in a separate thread. Multithreading can also be used for other tasks such as file I/O, database access, and graphics rendering.\n",
    "\n",
    "The module used to handle threads in Python is called \"threading\". This module provides a way to create and manage threads in Python. It includes functions for creating threads, synchronizing threads, and managing thread lifecycles.\n"
   ]
  },
  {
   "cell_type": "markdown",
   "id": "492d2abb-7a41-43a2-b15d-74b6550cc97d",
   "metadata": {},
   "source": [
    "### Why threading module used? Write the use of the following functions\n",
    "1.activeCount()\n",
    "2.currentThread()\n",
    "3.enumerate()\n",
    "\n",
    "The threading module in Python is used for creating and managing threads in a Python program. It provides a way to execute multiple threads within a single process, allowing for parallelism and concurrency.\n",
    "\n",
    "activeCount() - This function is used to return the number of active threads in the current process. It returns an integer value indicating the number of threads that are currently running or in a suspended state. This function can be useful for debugging or monitoring purposes.\n",
    "\n",
    "currentThread() - This function is used to return a reference to the currently executing thread. It returns an instance of the Thread class that represents the thread in which the function is called. This function can be useful when working with thread-local data or for identifying the current thread in a multi-threaded program.\n",
    "\n",
    "enumerate() - This function is used to return a list of all active threads in the current process. It returns a list of Thread objects representing each active thread. This function can be useful for debugging or monitoring purposes, or for iterating over all active threads in a program."
   ]
  },
  {
   "cell_type": "code",
   "execution_count": 8,
   "id": "bbd41871-a5a0-45ba-9caf-1c4650b740b3",
   "metadata": {},
   "outputs": [
    {
     "name": "stdout",
     "output_type": "stream",
     "text": [
      "Thread Worker-0 started\n",
      "Thread Worker-0 finished\n",
      "Thread Worker-1 started\n",
      "Thread Worker-1 finished\n",
      "Thread Worker-2 started\n",
      "Thread Worker-2 finished\n",
      "Thread Worker-3 started\n",
      "Thread Worker-3 finished\n",
      "Thread Worker-4 started\n",
      "Thread Worker-4 finished\n",
      "Number of active threads: 8\n",
      "Current thread: MainThread\n",
      "Thread name: IOPub, is daemon: True, is alive: True\n",
      "Thread name: Heartbeat, is daemon: True, is alive: True\n",
      "Thread name: Thread-3 (_watch_pipe_fd), is daemon: True, is alive: True\n",
      "Thread name: Thread-4 (_watch_pipe_fd), is daemon: True, is alive: True\n",
      "Thread name: Control, is daemon: True, is alive: True\n",
      "Thread name: IPythonHistorySavingThread, is daemon: True, is alive: True\n",
      "Thread name: Thread-2, is daemon: True, is alive: True\n"
     ]
    }
   ],
   "source": [
    "import threading\n",
    "\n",
    "def worker():\n",
    "    print(f\"Thread {threading.current_thread().name} started\")\n",
    "    # Do some work...\n",
    "    print(f\"Thread {threading.current_thread().name} finished\")\n",
    "\n",
    "# Create multiple threads\n",
    "threads = []\n",
    "for i in range(5):\n",
    "    t = threading.Thread(target=worker, name=f\"Worker-{i}\")\n",
    "    threads.append(t)\n",
    "    t.start()\n",
    "\n",
    "# Print the number of active threads\n",
    "print(f\"Number of active threads: {threading.active_count()}\")\n",
    "\n",
    "# Print information about the current thread\n",
    "print(f\"Current thread: {threading.current_thread().name}\")\n",
    "\n",
    "# Print information about all active threads\n",
    "for t in threading.enumerate():\n",
    "    if t is threading.current_thread():\n",
    "        continue\n",
    "    print(f\"Thread name: {t.name}, is daemon: {t.daemon}, is alive: {t.is_alive()}\")\n"
   ]
  },
  {
   "cell_type": "markdown",
   "id": "d36e16c7-cd31-4e02-b743-2f10647b62b8",
   "metadata": {},
   "source": [
    "### Explain the following functions\n",
    "1.run()\n",
    "2.start()\n",
    "3.join()\n",
    "4.isAlive()\n",
    "\n",
    "run(): This is the method that is called when a thread starts running. When you create a custom thread class, you can override the run() method to define what the thread should do. When you call the start() method on an instance of your custom thread class, Python automatically calls the run() method in a new thread.\n",
    "\n",
    "start(): This method starts the thread's execution. When you call start() on a thread instance, Python creates a new thread and calls the run() method in that thread. If you try to call run() directly, it will run the run() method in the same thread, which defeats the purpose of using threads in the first place.\n",
    "\n",
    "join(): This method waits for a thread to finish executing. When you call join() on a thread instance, Python blocks (waits) until that thread finishes running. This is useful if you need to make sure that a thread has finished before continuing with the rest of your program.\n",
    "\n",
    "isAlive(): This method returns a boolean value that indicates whether the thread is currently running or not. When you create a new thread and call start(), the thread is considered \"alive\" until it finishes executing. You can use isAlive() to check whether a thread is still running or has finished.\n",
    "\n",
    "In summary, run() is the method that defines what a thread does when it starts running, start() starts the thread's execution, join() waits for a thread to finish, and isAlive() checks whether a thread is still running or has finished."
   ]
  },
  {
   "cell_type": "code",
   "execution_count": 10,
   "id": "8ba2f63c-271e-4258-9a99-755df96b60d8",
   "metadata": {},
   "outputs": [
    {
     "name": "stdout",
     "output_type": "stream",
     "text": [
      "Thread 1 started\n",
      "Thread 1 is alive: True\n",
      "Thread 1 finished\n",
      "Thread 1 is alive: False\n"
     ]
    }
   ],
   "source": [
    "import threading\n",
    "import time\n",
    "\n",
    "class MyThread(threading.Thread):\n",
    "    def __init__(self, name):\n",
    "        threading.Thread.__init__(self)\n",
    "        self.name = name\n",
    "    \n",
    "    def run(self):\n",
    "        print(f\"{self.name} started\")\n",
    "        time.sleep(2)\n",
    "        print(f\"{self.name} finished\")\n",
    "    \n",
    "# Create a new thread instance and start it\n",
    "t = MyThread(\"Thread 1\")\n",
    "t.start()\n",
    "\n",
    "# Check if the thread is alive\n",
    "print(f\"{t.name} is alive: {t.is_alive()}\")\n",
    "\n",
    "# Wait for the thread to finish\n",
    "t.join()\n",
    "\n",
    "# Check if the thread is still alive\n",
    "print(f\"{t.name} is alive: {t.is_alive()}\")\n"
   ]
  },
  {
   "cell_type": "markdown",
   "id": "b3386a73-d89d-4a1f-83de-3907fe2d159f",
   "metadata": {},
   "source": [
    "### Write a python program to create two threads. Thread one must print the list of squares and thread two must print the list of cubes"
   ]
  },
  {
   "cell_type": "code",
   "execution_count": 12,
   "id": "244bb9f0-5038-45ae-a25e-0f2fd1ba3d51",
   "metadata": {},
   "outputs": [
    {
     "name": "stdout",
     "output_type": "stream",
     "text": [
      "square of 0 is 0\n",
      "square of 1 is 1\n",
      "square of 2 is 4\n",
      "square of 3 is 9\n",
      "square of 4 is 16\n",
      "square of 5 is 25\n",
      "square of 6 is 36\n",
      "square of 7 is 49\n",
      "square of 8 is 64\n",
      "square of 9 is 81\n",
      "square of 10 is 100\n",
      "cube of 0 is 0\n",
      "cube of 1 is 1\n",
      "cube of 2 is 8\n",
      "cube of 3 is 27\n",
      "cube of 4 is 64\n",
      "cube of 5 is 125\n",
      "cube of 6 is 216\n",
      "cube of 7 is 343\n",
      "cube of 8 is 512\n",
      "cube of 9 is 729\n",
      "cube of 10 is 1000\n",
      "DONE\n"
     ]
    }
   ],
   "source": [
    "import threading\n",
    "\n",
    "def print_squares():\n",
    "    for i in range(11):\n",
    "        print(f\"square of {i} is {i**2}\")\n",
    "    \n",
    "def print_cubes():\n",
    "    for i in range(11):\n",
    "        print(f\"cube of {i} is {i**3}\")\n",
    "    \n",
    "t1=threading.Thread(target=print_squares)\n",
    "t2=threading.Thread(target=print_cubes)\n",
    "\n",
    "t1.start()\n",
    "t2.start()\n",
    "\n",
    "t1.join()\n",
    "t2.join()\n",
    "\n",
    "print(\"DONE\")"
   ]
  },
  {
   "cell_type": "markdown",
   "id": "03983298-e823-4558-ba47-d5f98b75a094",
   "metadata": {},
   "source": [
    "### State advantages and disadvantages of multithreading\n",
    "Advantages of multithreading:\n",
    "\n",
    "Improved performance: Multithreading can improve the overall performance of an application by allowing multiple threads to execute simultaneously.\n",
    "\n",
    "Responsiveness: With multithreading, an application can continue to respond to user input even while executing time-consuming tasks in the background.\n",
    "\n",
    "Resource sharing: Multithreading enables multiple threads to share the same resources such as memory, files, and network connections, which can lead to more efficient use of resources.\n",
    "\n",
    "Modularity: Multithreading can help to break down a complex task into smaller, more manageable units of work, which can simplify development and maintenance.\n",
    "\n",
    "\n",
    "\n",
    "Disadvantages of multithreading:\n",
    "\n",
    "Complexity: Multithreading can make an application more complex and harder to debug and maintain, especially when shared resources are involved.\n",
    "\n",
    "Synchronization: Multithreading requires careful synchronization of shared resources to avoid race conditions and deadlocks, which can be difficult to implement correctly.\n",
    "\n",
    "Overhead: Multithreading can add overhead to an application, especially if there are many threads, which can affect overall performance.\n",
    "Resource contention: With multiple threads sharing resources, there can be contention for those resources, which can result in reduced performance and potential deadlock."
   ]
  },
  {
   "cell_type": "markdown",
   "id": "8f964165-c6c5-4e7f-8b3f-d04085e02f7f",
   "metadata": {},
   "source": [
    "### \n",
    "\n",
    "Deadlocks and race conditions are two common problems that can occur in concurrent programming, including multithreading.\n",
    "\n",
    "Deadlocks occur when two or more threads are blocked and unable to proceed because they are each waiting for the other to finish. This can happen when two threads are trying to acquire the same resources but in a different order. As a result, each thread ends up holding a resource that the other needs, and they are both stuck waiting for the other to release it.\n",
    "\n",
    "Race conditions occur when two or more threads access the same shared resource simultaneously, and the final result depends on the order in which the threads are executed. This can lead to unpredictable behavior, as the output of the program can vary depending on the timing and scheduling of the threads.\n",
    "\n",
    "Both deadlocks and race conditions can be difficult to detect and debug, as they often depend on subtle timing and ordering issues that can be difficult to reproduce consistently. To avoid these issues, it is important to carefully design and test concurrent programs, using techniques such as synchronization and locking to prevent multiple threads from accessing the same shared resources simultaneously."
   ]
  }
 ],
 "metadata": {
  "kernelspec": {
   "display_name": "Python 3 (ipykernel)",
   "language": "python",
   "name": "python3"
  },
  "language_info": {
   "codemirror_mode": {
    "name": "ipython",
    "version": 3
   },
   "file_extension": ".py",
   "mimetype": "text/x-python",
   "name": "python",
   "nbconvert_exporter": "python",
   "pygments_lexer": "ipython3",
   "version": "3.10.8"
  }
 },
 "nbformat": 4,
 "nbformat_minor": 5
}
